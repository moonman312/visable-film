{
 "cells": [
  {
   "cell_type": "markdown",
   "metadata": {},
   "source": [
    "# Team Members:\n",
    "1. Jake\n",
    "2. Olga \n",
    "3. Ravit \n",
    "4. Moran \n",
    "\n",
    "# Description\n",
    "**tl-dr**: a chrome extension that identifies when the user is depressed and warns him from problematic web text content.\n",
    "\n",
    "**full**: This chrome extension makes a request to a flask server running locally and sends the content of the webpage. The server endpoint creates 3 objects and 3 functions in order to capture the face, determine the probability that the face is displaying a negative emotion, and to get the sentiment of the text.\n",
    "\n",
    "We use Haar Cascade Object Detection Face to detect the face in the frame.\n",
    "\n",
    "The detected face is marked real-time by a rectangle frame and a frame is captured and returned to the server.\n",
    "\n",
    "resize it to (48,48) and save it in an array of cropped_faces.\n",
    "\n",
    "We have the function that excepts the text using a Google sentiment analysis API, sends it to google NLP API and gets a sentiment analysis score.\n",
    "\n",
    "The score of a document's sentiment indicates the overall emotion of a document.\n",
    "The magnitude of a document's sentiment indicates how much emotional content is present within the document,and this value is often proportional to the length of the document.\n",
    "\n",
    "If both the user's emotion is negative and the text sentiment is negative, the chrome extension display a warning. Otherwise, we do nothing.\n",
    "\n",
    "![flow.jpg](flow.jpg)\n",
    "# results\n",
    "we now have a working poc as described above. in terms of face emotions detection, we composed a dataset of our own from happy and sad pictures of our classmates. using this dataset, which is balanced, we achieve an accuracy of 88%. \n",
    "\n",
    "the google API for text sentiment analysis is relatively accurate -comon, its google- but since we are sending all of the page's text at once to it, the prediction are not very useful.\n",
    "\n",
    "# Challenges\n",
    "1. building a chrome extention - our biggest challeng, we adjust existing examples for how to accomplish this to our needs.\n",
    "2. building a local server - using flask, the main problem was combining it with the chrome extention.\n",
    "3. getting the CNN to perform well. in the end, we reduced the problem to only two emotions: happy and sad. with this approach, the network finnaly converged to good results.\n",
    "\n",
    "# What we would have done differently\n",
    "I actually think we would do the exact same things - just much faster since we now know how to do them. \n",
    "\n",
    "# Next steps\n",
    "we would really like to find out what bits of text are sad/harmfull and obfuscate them inside the webpage. \n",
    "this will require:\n",
    "1. finding a good way to seperate the text to individual parts that make sense.\n",
    "2. build are own sentiment analysis classifier. \n",
    "3. find a way to obfuscate only these bits of text. \n",
    "\n",
    "also, we want to get the chrome extenstion to perform every time a new page is loaded, not only when the user clicks it as it is now. \n",
    "\n",
    "in addition, we want to use a majority vote of different pictures of the user in order to more reliably asses the user's mood, instead of using only a single image."
   ]
  }
 ],
 "metadata": {
  "kernelspec": {
   "display_name": "Python 3",
   "language": "python",
   "name": "python3"
  },
  "language_info": {
   "codemirror_mode": {
    "name": "ipython",
    "version": 3
   },
   "file_extension": ".py",
   "mimetype": "text/x-python",
   "name": "python",
   "nbconvert_exporter": "python",
   "pygments_lexer": "ipython3",
   "version": "3.7.4"
  }
 },
 "nbformat": 4,
 "nbformat_minor": 2
}
