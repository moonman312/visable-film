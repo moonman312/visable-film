{
 "cells": [
  {
   "cell_type": "code",
   "execution_count": null,
   "metadata": {},
   "outputs": [],
   "source": []
  },
  {
   "cell_type": "markdown",
   "metadata": {},
   "source": [
    "# CNN for emotion detection - initial model\n"
   ]
  },
  {
   "cell_type": "markdown",
   "metadata": {},
   "source": [
    "we will use a vanilla CNN for the initial pruduct. it will have 8 conv layers, 4 maxpool layers and a single fully connected layer, that wiill output a single probabilty of being sad. \n",
    "after a lot of trail and error, we concluded that it is beneficial to reduce the problem (and accordingly, the dataset) to only happy and sad faces. this makes sense, since our main goal is to target depressed individuals and help them deal with the hazareds of going online. \n",
    "\n",
    "it will be compared to a baseline model that will alwayes guess that majority class - and thus will achive accuracy of 60%"
   ]
  },
  {
   "cell_type": "code",
   "execution_count": 7,
   "metadata": {},
   "outputs": [
    {
     "name": "stdout",
     "output_type": "stream",
     "text": [
      "Model: \"sequential_4\"\n",
      "_________________________________________________________________\n",
      "Layer (type)                 Output Shape              Param #   \n",
      "=================================================================\n",
      "conv2d_25 (Conv2D)           (None, 48, 48, 16)        160       \n",
      "_________________________________________________________________\n",
      "dropout_25 (Dropout)         (None, 48, 48, 16)        0         \n",
      "_________________________________________________________________\n",
      "conv2d_26 (Conv2D)           (None, 48, 48, 16)        2320      \n",
      "_________________________________________________________________\n",
      "dropout_26 (Dropout)         (None, 48, 48, 16)        0         \n",
      "_________________________________________________________________\n",
      "max_pooling2d_13 (MaxPooling (None, 24, 24, 16)        0         \n",
      "_________________________________________________________________\n",
      "conv2d_27 (Conv2D)           (None, 24, 24, 16)        2320      \n",
      "_________________________________________________________________\n",
      "dropout_27 (Dropout)         (None, 24, 24, 16)        0         \n",
      "_________________________________________________________________\n",
      "conv2d_28 (Conv2D)           (None, 24, 24, 16)        2320      \n",
      "_________________________________________________________________\n",
      "dropout_28 (Dropout)         (None, 24, 24, 16)        0         \n",
      "_________________________________________________________________\n",
      "max_pooling2d_14 (MaxPooling (None, 12, 12, 16)        0         \n",
      "_________________________________________________________________\n",
      "conv2d_29 (Conv2D)           (None, 12, 12, 16)        2320      \n",
      "_________________________________________________________________\n",
      "dropout_29 (Dropout)         (None, 12, 12, 16)        0         \n",
      "_________________________________________________________________\n",
      "conv2d_30 (Conv2D)           (None, 12, 12, 16)        2320      \n",
      "_________________________________________________________________\n",
      "dropout_30 (Dropout)         (None, 12, 12, 16)        0         \n",
      "_________________________________________________________________\n",
      "max_pooling2d_15 (MaxPooling (None, 6, 6, 16)          0         \n",
      "_________________________________________________________________\n",
      "conv2d_31 (Conv2D)           (None, 6, 6, 16)          2320      \n",
      "_________________________________________________________________\n",
      "dropout_31 (Dropout)         (None, 6, 6, 16)          0         \n",
      "_________________________________________________________________\n",
      "conv2d_32 (Conv2D)           (None, 6, 6, 16)          2320      \n",
      "_________________________________________________________________\n",
      "dropout_32 (Dropout)         (None, 6, 6, 16)          0         \n",
      "_________________________________________________________________\n",
      "max_pooling2d_16 (MaxPooling (None, 3, 3, 16)          0         \n",
      "_________________________________________________________________\n",
      "flatten_4 (Flatten)          (None, 144)               0         \n",
      "_________________________________________________________________\n",
      "dense_4 (Dense)              (None, 1)                 145       \n",
      "=================================================================\n",
      "Total params: 16,545\n",
      "Trainable params: 16,545\n",
      "Non-trainable params: 0\n",
      "_________________________________________________________________\n"
     ]
    }
   ],
   "source": [
    "model.summary()"
   ]
  },
  {
   "cell_type": "markdown",
   "metadata": {},
   "source": [
    "## Result\n",
    "this CNN achived test accuracy of 88% - much better than a naive baseline model.  "
   ]
  },
  {
   "cell_type": "markdown",
   "metadata": {},
   "source": [
    "# The Flow"
   ]
  },
  {
   "cell_type": "markdown",
   "metadata": {},
   "source": [
    "This chrome extension makes a request to a flask server running locally and sends the content of the webpage. The server endpoint creates 3 objects and 3 functions in order to capture the face, determine the probability that the face is displaying a negative emotion, and to get the sentiment of the text.\n",
    "\n",
    "We use Haar Cascade Object Detection Face to detect the face in the frame.\n",
    "\n",
    "The detected face is marked real-time by a rectangle frame and a frame is captured and returned to the server.\n",
    "\n",
    "resize it to (48,48) and save it in an array of cropped_faces.\n",
    "\n",
    "We have the function that excepts the text using a Google sentiment analysis API, sends it to google NLP API and gets a sentiment analysis score. \n",
    "\n",
    "The score of a document's sentiment indicates the overall emotion of a document.\n",
    "The magnitude of a document's sentiment indicates how much emotional content is present within the document,and this value is often proportional to the length of the document. \n",
    "\n",
    "If both the user's emotion is negative and the text sentiment is negative, we display a warning. Otherwise, we do nothing."
   ]
  },
  {
   "cell_type": "markdown",
   "metadata": {},
   "source": [
    "# Sending text to go through sentiment analysis using google NLP API\n",
    "\n"
   ]
  },
  {
   "cell_type": "markdown",
   "metadata": {},
   "source": [
    "![flow.jpg](flow.jpg)\n",
    "\n",
    "# NEXT STEPS\n",
    "1. Clean up the html and do better parsing of the content\n",
    "2. Create our own NLP model\n",
    "3. Imporve the CNN - we would like to try transfer learning and more sophisticated architectures.\n",
    "4. We want to improve the model by sending for semantic analysis only the relevant content of the web page. This is especially important for infinite scroll web pages.\n",
    "5. We also want to make the chrome extension activate the flow at the time each page loads"
   ]
  }
 ],
 "metadata": {
  "kernelspec": {
   "display_name": "Python 3",
   "language": "python",
   "name": "python3"
  },
  "language_info": {
   "codemirror_mode": {
    "name": "ipython",
    "version": 3
   },
   "file_extension": ".py",
   "mimetype": "text/x-python",
   "name": "python",
   "nbconvert_exporter": "python",
   "pygments_lexer": "ipython3",
   "version": "3.6.5"
  }
 },
 "nbformat": 4,
 "nbformat_minor": 2
}
